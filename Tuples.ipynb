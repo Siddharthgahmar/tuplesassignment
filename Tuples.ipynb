{
 "cells": [
  {
   "cell_type": "markdown",
   "id": "c242d749-d9c9-44fc-b35a-2fe1c48a2ab9",
   "metadata": {},
   "source": [
    "Q1-What is a tuple in python?\n",
    "Ans-A tuple is an ordered immutable collection of elements.We can create a tuple in python by enclosing comma-seprated elements within parentheses\"()\"."
   ]
  },
  {
   "cell_type": "markdown",
   "id": "6d11f54f-1133-42bc-a6ce-3a3383955a5e",
   "metadata": {},
   "source": [
    "Q2-How do you create a tuple in Python?\n",
    "Ans-We can create a tuple in python by enclosing comma-seprated elements within parentheses\"()\"."
   ]
  },
  {
   "cell_type": "code",
   "execution_count": 1,
   "id": "946c76be-6894-4dd7-9fbb-986a28957b5b",
   "metadata": {},
   "outputs": [
    {
     "name": "stdout",
     "output_type": "stream",
     "text": [
      "(1, 2, 3, 4, 5, 6)\n"
     ]
    }
   ],
   "source": [
    "t=(1,2,3,4,5,6)\n",
    "print(t)"
   ]
  },
  {
   "cell_type": "markdown",
   "id": "cad1e1ce-83bc-4d48-97ae-26ca1cb65ed2",
   "metadata": {},
   "source": [
    "Q3-What is the diffrence between a tuple and a list in Python ?\n",
    "Ans-Tuples are immutable we can't change any elements but list are mutable we can change any tyoe of in this"
   ]
  },
  {
   "cell_type": "markdown",
   "id": "51f2cb4e-1901-4420-b473-67228a918c10",
   "metadata": {},
   "source": [
    "Q4-Can tuple changed in python?\n",
    "Ans-We can't any change in tuple if we want any change firstly we declare list to change in tuple."
   ]
  },
  {
   "cell_type": "markdown",
   "id": "0816fb8e-e861-44a4-8021-64a121df485b",
   "metadata": {},
   "source": [
    "Q5-How do you access elements in tuple?\n",
    "Ans-For acces the elements we can use index or slice method'"
   ]
  },
  {
   "cell_type": "code",
   "execution_count": 2,
   "id": "43cecb65-06d8-4223-bf9f-0f37efd0d9aa",
   "metadata": {},
   "outputs": [
    {
     "data": {
      "text/plain": [
       "3"
      ]
     },
     "execution_count": 2,
     "metadata": {},
     "output_type": "execute_result"
    }
   ],
   "source": [
    "t=(1,2,3,4,5,6)\n",
    "t.index(4)"
   ]
  },
  {
   "cell_type": "code",
   "execution_count": 3,
   "id": "048c9058-d40b-476e-b03a-32431a1c2480",
   "metadata": {},
   "outputs": [
    {
     "data": {
      "text/plain": [
       "(3, 4)"
      ]
     },
     "execution_count": 3,
     "metadata": {},
     "output_type": "execute_result"
    }
   ],
   "source": [
    "t=(1,2,3,4,5,6)\n",
    "t[2:4]"
   ]
  },
  {
   "cell_type": "markdown",
   "id": "6a4b0b96-3e41-42ee-8bb6-1bda7dfbd100",
   "metadata": {},
   "source": [
    "Q6-How do you unpack a tuple in python?\n",
    "Ans-We can unpack a tuple by assigning its element to individual variables. This process"
   ]
  },
  {
   "cell_type": "code",
   "execution_count": null,
   "id": "56081ca5-eee0-44e0-addd-a19b1460f707",
   "metadata": {},
   "outputs": [],
   "source": []
  },
  {
   "cell_type": "code",
   "execution_count": null,
   "id": "c9c55759-95f9-45c0-b9fc-8c10eb0fd4ff",
   "metadata": {},
   "outputs": [],
   "source": []
  },
  {
   "cell_type": "code",
   "execution_count": null,
   "id": "eabc12fb-9610-4c93-bab7-da8423c2f111",
   "metadata": {},
   "outputs": [],
   "source": []
  },
  {
   "cell_type": "code",
   "execution_count": null,
   "id": "81f0c481-a5a7-42b5-b29b-45c02a15c8ce",
   "metadata": {},
   "outputs": [],
   "source": []
  },
  {
   "cell_type": "code",
   "execution_count": null,
   "id": "e55e7569-3768-4949-94aa-04544636e238",
   "metadata": {},
   "outputs": [],
   "source": []
  },
  {
   "cell_type": "code",
   "execution_count": null,
   "id": "ad08cf44-7cd8-4e4e-832b-7fc240f36fc7",
   "metadata": {},
   "outputs": [],
   "source": []
  },
  {
   "cell_type": "code",
   "execution_count": null,
   "id": "f56fa20e-9bfc-4bc1-ae42-9a77daf9c2f1",
   "metadata": {},
   "outputs": [],
   "source": []
  },
  {
   "cell_type": "code",
   "execution_count": null,
   "id": "1295121b-9ab0-4326-8250-0a0d4a2f417b",
   "metadata": {},
   "outputs": [],
   "source": []
  },
  {
   "cell_type": "code",
   "execution_count": null,
   "id": "089ef16d-0374-401c-9e3d-115670769e91",
   "metadata": {},
   "outputs": [],
   "source": []
  },
  {
   "cell_type": "code",
   "execution_count": null,
   "id": "1ecfaa26-d198-4c48-8e9e-75476d7255fd",
   "metadata": {},
   "outputs": [],
   "source": []
  },
  {
   "cell_type": "code",
   "execution_count": null,
   "id": "b15662a2-5e86-4cf4-8995-5e3abdb46bb1",
   "metadata": {},
   "outputs": [],
   "source": []
  },
  {
   "cell_type": "code",
   "execution_count": null,
   "id": "8be3760d-0103-4e73-a4cc-cc7551300dbf",
   "metadata": {},
   "outputs": [],
   "source": []
  },
  {
   "cell_type": "code",
   "execution_count": null,
   "id": "3e54d81d-d46c-452e-8a10-ee0403845a4b",
   "metadata": {},
   "outputs": [],
   "source": []
  },
  {
   "cell_type": "code",
   "execution_count": null,
   "id": "a6c7dee1-4976-49f5-a24d-e01d537b08bd",
   "metadata": {},
   "outputs": [],
   "source": []
  }
 ],
 "metadata": {
  "kernelspec": {
   "display_name": "Python 3 (ipykernel)",
   "language": "python",
   "name": "python3"
  },
  "language_info": {
   "codemirror_mode": {
    "name": "ipython",
    "version": 3
   },
   "file_extension": ".py",
   "mimetype": "text/x-python",
   "name": "python",
   "nbconvert_exporter": "python",
   "pygments_lexer": "ipython3",
   "version": "3.10.8"
  }
 },
 "nbformat": 4,
 "nbformat_minor": 5
}
